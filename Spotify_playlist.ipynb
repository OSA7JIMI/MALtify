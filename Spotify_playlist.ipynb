{
 "cells": [
  {
   "cell_type": "code",
   "execution_count": 1,
   "id": "9f1a526d",
   "metadata": {},
   "outputs": [],
   "source": [
    "import pandas as pd\n",
    "import spotipy\n",
    "from spotipy.oauth2 import SpotifyOAuth"
   ]
  },
  {
   "cell_type": "code",
   "execution_count": 2,
   "id": "a93b6357",
   "metadata": {},
   "outputs": [],
   "source": [
    "# Replace with your client ID, client secret, and redirect URI\n",
    "client_id = '3315aeaf9e394250a7eefef4e4e8d319'\n",
    "client_secret = '0c9aacb4b44042f09625b851f5bb6aec'\n",
    "link = 'http://localhost:3000/callback'\n",
    "\n",
    "# Scopes determine the access permissions your app needs\n",
    "# For example, 'user-library-read' allows reading a user's library\n",
    "scope = [\"user-library-read\",\"user-read-private\", \"playlist-modify-public\", \"playlist-modify-private\"]"
   ]
  },
  {
   "cell_type": "code",
   "execution_count": 5,
   "id": "a06b98b0",
   "metadata": {},
   "outputs": [],
   "source": [
    "songs_df = pd.read_csv(\"songs_13Dec.csv\")"
   ]
  },
  {
   "cell_type": "markdown",
   "id": "06491e45",
   "metadata": {},
   "source": [
    "# Access token lasts 1 hour"
   ]
  },
  {
   "cell_type": "code",
   "execution_count": 15,
   "id": "435c2467",
   "metadata": {
    "scrolled": true
   },
   "outputs": [
    {
     "name": "stdout",
     "output_type": "stream",
     "text": [
      "Visit this URL to authorize the app: https://accounts.spotify.com/authorize?client_id=3315aeaf9e394250a7eefef4e4e8d319&response_type=code&redirect_uri=http%3A%2F%2Flocalhost%3A3000%2Fcallback&scope=playlist-modify-private+playlist-modify-public+user-library-read+user-read-private\n",
      "Enter the authorization code: AQCShUVU1p7L3OTiv-C4EEtNdB1IOxx2YzQR8-srsCWoL-jWC4KyqyYym0Yh9lQjbQphNLbE7B9deXd0Mm1YyjUZ5_kQuECwmUnAmPQAxQnp4Z_jR1ErE5eyKiUEqw0Uj6pCrI1YmkUYNxbcz5_OYcPu5gtsfnSmj0N6utNAKPM6Q5TWB_u9_s0J7bt16nMPHLTkoep93i014pe1SyzykWZeOz2dt32aCFCrCj9rC9DLfMUyIU7ZIFvlJuGcoeW_OU9gioP1YpxYZNhoSLh4uDkJSsOxOK7kQQ\n"
     ]
    },
    {
     "name": "stderr",
     "output_type": "stream",
     "text": [
      "C:\\Users\\ezrak\\AppData\\Local\\Temp\\ipykernel_28488\\2701592836.py:11: DeprecationWarning: You're using 'as_dict = True'.get_access_token will return the token string directly in future versions. Please adjust your code accordingly, or use get_cached_token instead.\n",
      "  token_info = sp_oauth.get_access_token(authorization_code)\n"
     ]
    }
   ],
   "source": [
    "sp_oauth = SpotifyOAuth(\n",
    "    client_id=client_id,\n",
    "    client_secret=client_secret,\n",
    "    redirect_uri=link,\n",
    "    scope=scope,\n",
    ")\n",
    "\n",
    "auth_url = sp_oauth.get_authorize_url()\n",
    "print(f\"Visit this URL to authorize the app: {auth_url}\")\n",
    "authorization_code = input(\"Enter the authorization code: \")\n",
    "token_info = sp_oauth.get_access_token(authorization_code)\n",
    "access_token = token_info['access_token']\n",
    "sp = spotipy.Spotify(auth=access_token)"
   ]
  },
  {
   "cell_type": "markdown",
   "id": "042fe8b8",
   "metadata": {},
   "source": [
    "# Initialise a new playlist"
   ]
  },
  {
   "cell_type": "code",
   "execution_count": 13,
   "id": "f3a9371d",
   "metadata": {},
   "outputs": [
    {
     "data": {
      "text/plain": [
       "{'snapshot_id': 'Miw5OGNjZGVjMTRlMmQyNGI0Y2RiMmQ1ZmQzN2VkNmE5M2NiOTExMzM3'}"
      ]
     },
     "execution_count": 13,
     "metadata": {},
     "output_type": "execute_result"
    }
   ],
   "source": [
    "playlist_name = 'MALtify'\n",
    "user_id = sp.me()['id']\n",
    "playlist = sp.user_playlist_create(user_id, playlist_name)"
   ]
  },
  {
   "cell_type": "markdown",
   "id": "6331fc45",
   "metadata": {},
   "source": [
    "# Add songs from dataframe to playlist"
   ]
  },
  {
   "cell_type": "code",
   "execution_count": 25,
   "id": "19382a3a",
   "metadata": {},
   "outputs": [
    {
     "name": "stdout",
     "output_type": "stream",
     "text": [
      "Search returned no results\n",
      "Failed to add  Make Event Jikkyou Play \n"
     ]
    }
   ],
   "source": [
    "# Search for a song\n",
    "for i in range(len(songs_df)):\n",
    "    song_query = songs_df['title'].iloc[i]\n",
    "    artist_query = songs_df['nickname'].iloc[i]\n",
    "    query = f'{song_query} artist:{artist_query}'\n",
    "    results = sp.search(q=song_query, type='track', limit=1)\n",
    "    try:\n",
    "        track_uri = results['tracks']['items'][0]['uri']\n",
    "    except IndexError:\n",
    "        print(\"Search returned no results\")\n",
    "        print(\"Failed to add \", song_query)\n",
    "    sp.playlist_add_items(playlist['id'], [track_uri])"
   ]
  },
  {
   "cell_type": "code",
   "execution_count": 22,
   "id": "32ef23ba",
   "metadata": {},
   "outputs": [
    {
     "name": "stdout",
     "output_type": "stream",
     "text": [
      "6UHTrNBDBTupVIJD3zwCgH\n"
     ]
    }
   ],
   "source": [
    "print(playlist['id'])"
   ]
  },
  {
   "cell_type": "code",
   "execution_count": 27,
   "id": "090e27bd",
   "metadata": {},
   "outputs": [
    {
     "data": {
      "text/html": [
       "<div>\n",
       "<style scoped>\n",
       "    .dataframe tbody tr th:only-of-type {\n",
       "        vertical-align: middle;\n",
       "    }\n",
       "\n",
       "    .dataframe tbody tr th {\n",
       "        vertical-align: top;\n",
       "    }\n",
       "\n",
       "    .dataframe thead th {\n",
       "        text-align: right;\n",
       "    }\n",
       "</style>\n",
       "<table border=\"1\" class=\"dataframe\">\n",
       "  <thead>\n",
       "    <tr style=\"text-align: right;\">\n",
       "      <th></th>\n",
       "      <th>index</th>\n",
       "      <th>title</th>\n",
       "      <th>nickname</th>\n",
       "    </tr>\n",
       "  </thead>\n",
       "  <tbody>\n",
       "    <tr>\n",
       "      <th>0</th>\n",
       "      <td>0</td>\n",
       "      <td>Idol</td>\n",
       "      <td>YOASOBI</td>\n",
       "    </tr>\n",
       "    <tr>\n",
       "      <th>1</th>\n",
       "      <td>2</td>\n",
       "      <td>Mephisto</td>\n",
       "      <td>Ziyoouvachi</td>\n",
       "    </tr>\n",
       "    <tr>\n",
       "      <th>2</th>\n",
       "      <td>3</td>\n",
       "      <td>Gotoubun no Kimochi</td>\n",
       "      <td>Nakanoke</td>\n",
       "    </tr>\n",
       "    <tr>\n",
       "      <th>3</th>\n",
       "      <td>4</td>\n",
       "      <td>Sign</td>\n",
       "      <td>Aya</td>\n",
       "    </tr>\n",
       "    <tr>\n",
       "      <th>4</th>\n",
       "      <td>5</td>\n",
       "      <td>Gobun no Ichi</td>\n",
       "      <td>Nakanoke</td>\n",
       "    </tr>\n",
       "    <tr>\n",
       "      <th>...</th>\n",
       "      <td>...</td>\n",
       "      <td>...</td>\n",
       "      <td>...</td>\n",
       "    </tr>\n",
       "    <tr>\n",
       "      <th>682</th>\n",
       "      <td>767</td>\n",
       "      <td>ALPHA</td>\n",
       "      <td>STEREO</td>\n",
       "    </tr>\n",
       "    <tr>\n",
       "      <th>683</th>\n",
       "      <td>768</td>\n",
       "      <td>TWISTED HEARTS</td>\n",
       "      <td>Tasuku</td>\n",
       "    </tr>\n",
       "    <tr>\n",
       "      <th>684</th>\n",
       "      <td>769</td>\n",
       "      <td>OMEGA</td>\n",
       "      <td>STEREO</td>\n",
       "    </tr>\n",
       "    <tr>\n",
       "      <th>685</th>\n",
       "      <td>770</td>\n",
       "      <td>Change The World</td>\n",
       "      <td>MADKID</td>\n",
       "    </tr>\n",
       "    <tr>\n",
       "      <th>686</th>\n",
       "      <td>771</td>\n",
       "      <td>LOVE  MOON</td>\n",
       "      <td>Marika</td>\n",
       "    </tr>\n",
       "  </tbody>\n",
       "</table>\n",
       "<p>687 rows × 3 columns</p>\n",
       "</div>"
      ],
      "text/plain": [
       "     index                 title     nickname\n",
       "0        0                 Idol       YOASOBI\n",
       "1        2             Mephisto   Ziyoouvachi\n",
       "2        3  Gotoubun no Kimochi      Nakanoke\n",
       "3        4                  Sign          Aya\n",
       "4        5        Gobun no Ichi      Nakanoke\n",
       "..     ...                   ...          ...\n",
       "682    767                 ALPHA       STEREO\n",
       "683    768        TWISTED HEARTS       Tasuku\n",
       "684    769                 OMEGA       STEREO\n",
       "685    770      Change The World       MADKID\n",
       "686    771            LOVE  MOON       Marika\n",
       "\n",
       "[687 rows x 3 columns]"
      ]
     },
     "execution_count": 27,
     "metadata": {},
     "output_type": "execute_result"
    }
   ],
   "source": [
    "songs_df"
   ]
  },
  {
   "cell_type": "code",
   "execution_count": null,
   "id": "c86a49a7",
   "metadata": {},
   "outputs": [],
   "source": []
  }
 ],
 "metadata": {
  "kernelspec": {
   "display_name": "Python 3 (ipykernel)",
   "language": "python",
   "name": "python3"
  },
  "language_info": {
   "codemirror_mode": {
    "name": "ipython",
    "version": 3
   },
   "file_extension": ".py",
   "mimetype": "text/x-python",
   "name": "python",
   "nbconvert_exporter": "python",
   "pygments_lexer": "ipython3",
   "version": "3.10.6"
  }
 },
 "nbformat": 4,
 "nbformat_minor": 5
}
